{
 "cells": [
  {
   "cell_type": "markdown",
   "metadata": {},
   "source": [
    "# NYPD Allegations\n",
    "\n",
    "#### By: Felipe Lorenzi & Anna Preger"
   ]
  },
  {
   "cell_type": "markdown",
   "metadata": {},
   "source": [
    "# Summary of Findings\n",
    "\n",
    "\n",
    "### Introduction\n",
    "In this study, we attempt to build a **classification** model that predicts whether a civiliant complaint case filed against NYPD officers was found to be substantiated or not after being reviewed by the NYC's Civilian Complaint Review Board (CCRB).\n",
    "\n",
    "Our target variable is a **binarized board_disposition**, which indicates the finding by the CCRB for a given case. This variable originally contains 3 possible outcomes: substantiated, exonerated, and unsubstantiated. We decided to group exonerated and unsubstantiated cases together in order to create a binary classification problem where the target is either substantiated or not substantiated.\n",
    "\n",
    "As for our evaluation metric, we decide to use the **F-1 score**, for three main reasons. The first is that accuracy is not a great metric for our purposes since our target is fairly unbalanced - around 25% of cases were substantiated. Second, the F-1 score is more informative than accuracy as it gives information about both the precision and recall/sensitivity of our model. Third, neither one of sensitivity or specificity are much more important in our case as we believe that this model should only be used for curiosity, **NOT** for actually deciding whether a case should be substantiated or not.\n",
    "\n",
    "### Baseline Model\n",
    "For our baseline model, we decide to use the following features:\n",
    "\n",
    "Quantitative features:\n",
    "- 'month_received', 'year_received', 'mos_age_incident', 'complainant_age_incident'\n",
    "\n",
    "Nominal features:\n",
    "- 'shield_no', 'mos_ethnicity', 'mos_gender', 'complainant_ethnicity', 'complainant_gender', 'fado_type', 'comman d_at_incident', 'allegation', 'precinct'\n",
    "\n",
    "Ordinal features:\n",
    "- 'rank_abbrev_incident',\n",
    "\n",
    "We do not use features that would not be available at the time of the incident, such as month/year_closed or rank_now, as this would impede our model from generalizing to new incidents that have not yet been closed.\n",
    "\n",
    "We find that our baseline model has a testing F-1 score of around 0.41. This is a pretty low score, and as is indicated by the confusion matrix, our baseline model appears to have a sensitivity of less than 0.5, meaning that it gets the predictions for substantiated cases wrong more often than it gets them right.\n",
    "\n",
    "### Final Model\n",
    "For our final model, we created 4 entirely new features and scaled some of our numerical features. The features created were the following:\n",
    "1. Combined fado_type and allegation with an underscore\n",
    "    - This feature has potential to be useful because civilian complaints can be making the same 'allegation', but in completely different categories (fado_type), which makes them completely different from each other. By combining them and then label encoding them, we encode these differences in our model.\n",
    "    \n",
    "    \n",
    "2. Difference in age of officer and complainant\n",
    "    - The age of the complainant or the officer has been seen to be important in our EDA in project 3. However, perhaps the difference in age is also important, and this is not something that our model would take into account automatically. Adding this feature to our model has potential to be useful as well.\n",
    "    \n",
    "    \n",
    "3. Are the complainant and officer of the same ethnicity?\n",
    "    - Much like for age, we have seen that the ethnicities of the officer and complainant are correlated to our target. Models are capable of making linear combinations with these pieces of information, but most are not able to check if they are the same, which in this case can be valuable semantic information.\n",
    "    \n",
    "    \n",
    "4. Are the complainant and officer of the same gender?\n",
    "    - We do the same as we did for ethnicity, but for gender. This can also be important information.\n",
    "    \n",
    "\n",
    "We used sklearn's StandardScaler to z-scale the officers' and complainants' ages. This should, in theory, improve the effectiveness of our model by reducing noise from having different features in different scales and distributions.\n",
    "\n",
    "From there, we tested several models using the _holdout strategy_ by tuning their parameters with k-fold cross-validation and comparing different models using a separate testing set. Through this, we found that KNeighbors with n_neighbors parameter = 3 and a Random Forest with min_samples_split = 4 and min_samples_leaf = 2 to be the best models. We then combined both of them in a Stacking Classifier in order to make use of the strengths of both to achieve a better final model.\n",
    "\n",
    "Finally, we trained a Random Forest and looked at the feature importances. We took the top 50 features by importance to the Random Forest and used only those features in our final model to get a slight improvement in scores.\n",
    "\n",
    "### Fairness Evaluation\n",
    "We evaluated the F-1 score of our model on two different subsets of our data: Complaints associated with precincts in Manhattan and complaints associated with precincts outside of Manhattan.\n",
    "\n",
    "Precincts numbers 1 - 34 are in Manhattan, while 40+ are not.\n",
    "\n",
    "We tested the following hyptheses:\n",
    "\n",
    "> Null Hypothesis: The model is fair; the F-1 score for precincts inside and outside of Manhattan are roughly the same\n",
    "\n",
    "> Alternative Hypothesis: The model is unfair; the F-1 score for precincts in Manhattan is higher than for precincts outside of Manhattan.\n",
    "\n",
    "We ran 100 random permutations of comparing the F-1 score of our final model on precincts in- and outside of Manhattan. Our finding is that our model is far more accurate for precincts in Mahattan, with a p-value of 0 (in our 100 random simulations, we never saw a difference in F-1 scores as extreme as the one seen in our original data)."
   ]
  },
  {
   "cell_type": "markdown",
   "metadata": {},
   "source": [
    "# Code"
   ]
  },
  {
   "cell_type": "code",
   "execution_count": 53,
   "metadata": {},
   "outputs": [],
   "source": [
    "import matplotlib.pyplot as plt\n",
    "import numpy as np\n",
    "import os\n",
    "import pandas as pd\n",
    "import seaborn as sns\n",
    "\n",
    "from sklearn.preprocessing import OneHotEncoder, LabelEncoder, FunctionTransformer, StandardScaler, KBinsDiscretizer\n",
    "from sklearn.compose import ColumnTransformer\n",
    "from sklearn.pipeline import Pipeline\n",
    "from sklearn.tree import DecisionTreeClassifier\n",
    "from sklearn.model_selection import train_test_split, GridSearchCV\n",
    "from sklearn.metrics import f1_score, confusion_matrix, ConfusionMatrixDisplay\n",
    "from sklearn.linear_model import LogisticRegression\n",
    "from sklearn.svm import LinearSVC\n",
    "from sklearn.neighbors import KNeighborsClassifier\n",
    "from sklearn.ensemble import RandomForestClassifier, StackingClassifier, VotingClassifier\n",
    "\n",
    "%matplotlib inline\n",
    "%config InlineBackend.figure_format = 'retina'  # Higher resolution figures\n",
    "\n",
    "# set plotting size parameter\n",
    "plt.rcParams['figure.figsize'] = (8, 4)\n",
    "plt.rcParams.update({'font.size': 10})"
   ]
  },
  {
   "cell_type": "code",
   "execution_count": 2,
   "metadata": {},
   "outputs": [],
   "source": [
    "%load_ext autoreload\n",
    "%autoreload 2\n",
    "from functions import *"
   ]
  },
  {
   "cell_type": "markdown",
   "metadata": {},
   "source": [
    "Loading dataset:"
   ]
  },
  {
   "cell_type": "code",
   "execution_count": 3,
   "metadata": {
    "collapsed": true
   },
   "outputs": [
    {
     "data": {
      "text/html": [
       "<div>\n",
       "<style scoped>\n",
       "    .dataframe tbody tr th:only-of-type {\n",
       "        vertical-align: middle;\n",
       "    }\n",
       "\n",
       "    .dataframe tbody tr th {\n",
       "        vertical-align: top;\n",
       "    }\n",
       "\n",
       "    .dataframe thead th {\n",
       "        text-align: right;\n",
       "    }\n",
       "</style>\n",
       "<table border=\"1\" class=\"dataframe\">\n",
       "  <thead>\n",
       "    <tr style=\"text-align: right;\">\n",
       "      <th></th>\n",
       "      <th>unique_mos_id</th>\n",
       "      <th>first_name</th>\n",
       "      <th>last_name</th>\n",
       "      <th>command_now</th>\n",
       "      <th>shield_no</th>\n",
       "      <th>complaint_id</th>\n",
       "      <th>month_received</th>\n",
       "      <th>year_received</th>\n",
       "      <th>month_closed</th>\n",
       "      <th>year_closed</th>\n",
       "      <th>...</th>\n",
       "      <th>mos_age_incident</th>\n",
       "      <th>complainant_ethnicity</th>\n",
       "      <th>complainant_gender</th>\n",
       "      <th>complainant_age_incident</th>\n",
       "      <th>fado_type</th>\n",
       "      <th>allegation</th>\n",
       "      <th>precinct</th>\n",
       "      <th>contact_reason</th>\n",
       "      <th>outcome_description</th>\n",
       "      <th>board_disposition</th>\n",
       "    </tr>\n",
       "  </thead>\n",
       "  <tbody>\n",
       "    <tr>\n",
       "      <th>0</th>\n",
       "      <td>10004</td>\n",
       "      <td>Jonathan</td>\n",
       "      <td>Ruiz</td>\n",
       "      <td>078 PCT</td>\n",
       "      <td>8409</td>\n",
       "      <td>42835</td>\n",
       "      <td>7</td>\n",
       "      <td>2019</td>\n",
       "      <td>5</td>\n",
       "      <td>2020</td>\n",
       "      <td>...</td>\n",
       "      <td>32</td>\n",
       "      <td>Black</td>\n",
       "      <td>Female</td>\n",
       "      <td>38.0</td>\n",
       "      <td>Abuse of Authority</td>\n",
       "      <td>Failure to provide RTKA card</td>\n",
       "      <td>78.0</td>\n",
       "      <td>Report-domestic dispute</td>\n",
       "      <td>No arrest made or summons issued</td>\n",
       "      <td>Substantiated (Command Lvl Instructions)</td>\n",
       "    </tr>\n",
       "    <tr>\n",
       "      <th>1</th>\n",
       "      <td>10007</td>\n",
       "      <td>John</td>\n",
       "      <td>Sears</td>\n",
       "      <td>078 PCT</td>\n",
       "      <td>5952</td>\n",
       "      <td>24601</td>\n",
       "      <td>11</td>\n",
       "      <td>2011</td>\n",
       "      <td>8</td>\n",
       "      <td>2012</td>\n",
       "      <td>...</td>\n",
       "      <td>24</td>\n",
       "      <td>Black</td>\n",
       "      <td>Male</td>\n",
       "      <td>26.0</td>\n",
       "      <td>Discourtesy</td>\n",
       "      <td>Action</td>\n",
       "      <td>67.0</td>\n",
       "      <td>Moving violation</td>\n",
       "      <td>Moving violation summons issued</td>\n",
       "      <td>Substantiated (Charges)</td>\n",
       "    </tr>\n",
       "    <tr>\n",
       "      <th>2</th>\n",
       "      <td>10007</td>\n",
       "      <td>John</td>\n",
       "      <td>Sears</td>\n",
       "      <td>078 PCT</td>\n",
       "      <td>5952</td>\n",
       "      <td>24601</td>\n",
       "      <td>11</td>\n",
       "      <td>2011</td>\n",
       "      <td>8</td>\n",
       "      <td>2012</td>\n",
       "      <td>...</td>\n",
       "      <td>24</td>\n",
       "      <td>Black</td>\n",
       "      <td>Male</td>\n",
       "      <td>26.0</td>\n",
       "      <td>Offensive Language</td>\n",
       "      <td>Race</td>\n",
       "      <td>67.0</td>\n",
       "      <td>Moving violation</td>\n",
       "      <td>Moving violation summons issued</td>\n",
       "      <td>Substantiated (Charges)</td>\n",
       "    </tr>\n",
       "    <tr>\n",
       "      <th>3</th>\n",
       "      <td>10007</td>\n",
       "      <td>John</td>\n",
       "      <td>Sears</td>\n",
       "      <td>078 PCT</td>\n",
       "      <td>5952</td>\n",
       "      <td>26146</td>\n",
       "      <td>7</td>\n",
       "      <td>2012</td>\n",
       "      <td>9</td>\n",
       "      <td>2013</td>\n",
       "      <td>...</td>\n",
       "      <td>25</td>\n",
       "      <td>Black</td>\n",
       "      <td>Male</td>\n",
       "      <td>45.0</td>\n",
       "      <td>Abuse of Authority</td>\n",
       "      <td>Question</td>\n",
       "      <td>67.0</td>\n",
       "      <td>PD suspected C/V of violation/crime - street</td>\n",
       "      <td>No arrest made or summons issued</td>\n",
       "      <td>Substantiated (Charges)</td>\n",
       "    </tr>\n",
       "    <tr>\n",
       "      <th>4</th>\n",
       "      <td>10009</td>\n",
       "      <td>Noemi</td>\n",
       "      <td>Sierra</td>\n",
       "      <td>078 PCT</td>\n",
       "      <td>24058</td>\n",
       "      <td>40253</td>\n",
       "      <td>8</td>\n",
       "      <td>2018</td>\n",
       "      <td>2</td>\n",
       "      <td>2019</td>\n",
       "      <td>...</td>\n",
       "      <td>39</td>\n",
       "      <td>NaN</td>\n",
       "      <td>NaN</td>\n",
       "      <td>16.0</td>\n",
       "      <td>Force</td>\n",
       "      <td>Physical force</td>\n",
       "      <td>67.0</td>\n",
       "      <td>Report-dispute</td>\n",
       "      <td>Arrest - other violation/crime</td>\n",
       "      <td>Substantiated (Command Discipline A)</td>\n",
       "    </tr>\n",
       "  </tbody>\n",
       "</table>\n",
       "<p>5 rows × 27 columns</p>\n",
       "</div>"
      ],
      "text/plain": [
       "   unique_mos_id first_name last_name command_now  shield_no  complaint_id  \\\n",
       "0          10004   Jonathan      Ruiz     078 PCT       8409         42835   \n",
       "1          10007       John     Sears     078 PCT       5952         24601   \n",
       "2          10007       John     Sears     078 PCT       5952         24601   \n",
       "3          10007       John     Sears     078 PCT       5952         26146   \n",
       "4          10009      Noemi    Sierra     078 PCT      24058         40253   \n",
       "\n",
       "   month_received  year_received  month_closed  year_closed  ...  \\\n",
       "0               7           2019             5         2020  ...   \n",
       "1              11           2011             8         2012  ...   \n",
       "2              11           2011             8         2012  ...   \n",
       "3               7           2012             9         2013  ...   \n",
       "4               8           2018             2         2019  ...   \n",
       "\n",
       "  mos_age_incident complainant_ethnicity complainant_gender  \\\n",
       "0               32                 Black             Female   \n",
       "1               24                 Black               Male   \n",
       "2               24                 Black               Male   \n",
       "3               25                 Black               Male   \n",
       "4               39                   NaN                NaN   \n",
       "\n",
       "  complainant_age_incident           fado_type                    allegation  \\\n",
       "0                     38.0  Abuse of Authority  Failure to provide RTKA card   \n",
       "1                     26.0         Discourtesy                        Action   \n",
       "2                     26.0  Offensive Language                          Race   \n",
       "3                     45.0  Abuse of Authority                      Question   \n",
       "4                     16.0               Force                Physical force   \n",
       "\n",
       "  precinct                                contact_reason  \\\n",
       "0     78.0                       Report-domestic dispute   \n",
       "1     67.0                              Moving violation   \n",
       "2     67.0                              Moving violation   \n",
       "3     67.0  PD suspected C/V of violation/crime - street   \n",
       "4     67.0                                Report-dispute   \n",
       "\n",
       "                outcome_description                         board_disposition  \n",
       "0  No arrest made or summons issued  Substantiated (Command Lvl Instructions)  \n",
       "1   Moving violation summons issued                   Substantiated (Charges)  \n",
       "2   Moving violation summons issued                   Substantiated (Charges)  \n",
       "3  No arrest made or summons issued                   Substantiated (Charges)  \n",
       "4    Arrest - other violation/crime      Substantiated (Command Discipline A)  \n",
       "\n",
       "[5 rows x 27 columns]"
      ]
     },
     "execution_count": 3,
     "metadata": {},
     "output_type": "execute_result"
    }
   ],
   "source": [
    "nypd_full = pd.read_csv('./NYPD-Data/allegations_202007271729.csv')\n",
    "nypd_full.head()"
   ]
  },
  {
   "cell_type": "code",
   "execution_count": 7,
   "metadata": {
    "collapsed": true
   },
   "outputs": [
    {
     "name": "stdout",
     "output_type": "stream",
     "text": [
      "<class 'pandas.core.frame.DataFrame'>\n",
      "RangeIndex: 33358 entries, 0 to 33357\n",
      "Data columns (total 27 columns):\n",
      " #   Column                    Non-Null Count  Dtype  \n",
      "---  ------                    --------------  -----  \n",
      " 0   unique_mos_id             33358 non-null  int64  \n",
      " 1   first_name                33358 non-null  object \n",
      " 2   last_name                 33358 non-null  object \n",
      " 3   command_now               33358 non-null  object \n",
      " 4   shield_no                 33358 non-null  int64  \n",
      " 5   complaint_id              33358 non-null  int64  \n",
      " 6   month_received            33358 non-null  int64  \n",
      " 7   year_received             33358 non-null  int64  \n",
      " 8   month_closed              33358 non-null  int64  \n",
      " 9   year_closed               33358 non-null  int64  \n",
      " 10  command_at_incident       31814 non-null  object \n",
      " 11  rank_abbrev_incident      33358 non-null  object \n",
      " 12  rank_abbrev_now           33358 non-null  object \n",
      " 13  rank_now                  33358 non-null  object \n",
      " 14  rank_incident             33358 non-null  object \n",
      " 15  mos_ethnicity             33358 non-null  object \n",
      " 16  mos_gender                33358 non-null  object \n",
      " 17  mos_age_incident          33358 non-null  int64  \n",
      " 18  complainant_ethnicity     28894 non-null  object \n",
      " 19  complainant_gender        29163 non-null  object \n",
      " 20  complainant_age_incident  28546 non-null  float64\n",
      " 21  fado_type                 33358 non-null  object \n",
      " 22  allegation                33357 non-null  object \n",
      " 23  precinct                  33334 non-null  float64\n",
      " 24  contact_reason            33159 non-null  object \n",
      " 25  outcome_description       33302 non-null  object \n",
      " 26  board_disposition         33358 non-null  object \n",
      "dtypes: float64(2), int64(8), object(17)\n",
      "memory usage: 6.9+ MB\n"
     ]
    }
   ],
   "source": [
    "nypd_full.info()"
   ]
  },
  {
   "cell_type": "markdown",
   "metadata": {},
   "source": [
    "Creating binarized target variable:"
   ]
  },
  {
   "cell_type": "code",
   "execution_count": 4,
   "metadata": {},
   "outputs": [
    {
     "data": {
      "text/plain": [
       "0    0.751154\n",
       "1    0.248846\n",
       "Name: binary_board_disposition, dtype: float64"
      ]
     },
     "execution_count": 4,
     "metadata": {},
     "output_type": "execute_result"
    }
   ],
   "source": [
    "def binarize_disposition(s):\n",
    "    if 'Substantiated' in s:\n",
    "        return 1\n",
    "    else:\n",
    "        return 0\n",
    "\n",
    "nypd_full = nypd_full.assign(binary_board_disposition = nypd_full['board_disposition'].apply(binarize_disposition))\n",
    "\n",
    "nypd_full['binary_board_disposition'].value_counts(normalize = True)"
   ]
  },
  {
   "cell_type": "markdown",
   "metadata": {},
   "source": [
    "### Baseline Model"
   ]
  },
  {
   "cell_type": "markdown",
   "metadata": {},
   "source": [
    "**Missing values**"
   ]
  },
  {
   "cell_type": "code",
   "execution_count": 5,
   "metadata": {
    "scrolled": true
   },
   "outputs": [
    {
     "data": {
      "image/png": "[encoded data removed]",
      "text/plain": [
       "<Figure size 576x288 with 1 Axes>"
      ]
     },
     "metadata": {
      "image/png": {
       "height": 277,
       "width": 620
      },
      "needs_background": "light"
     },
     "output_type": "display_data"
    }
   ],
   "source": [
    "feature_cols = ['shield_no', 'month_received', 'year_received', 'command_at_incident', \n",
    "                'rank_abbrev_incident', 'mos_ethnicity', 'mos_gender', 'mos_age_incident', \n",
    "                'complainant_ethnicity', 'complainant_gender', 'complainant_age_incident', \n",
    "                'fado_type', 'allegation', 'precinct']\n",
    "\n",
    "ax = plt.subplot()\n",
    "\n",
    "sns.histplot(\n",
    "        data = nypd_full[feature_cols].isnull().melt(value_name = 'Missing'), \n",
    "        y = 'variable',\n",
    "        hue = 'Missing',\n",
    "        multiple = 'fill',\n",
    "        ax = ax)\n",
    "\n",
    "ax.set_title('Missing Values Per Feature')\n",
    "ax.set_xlabel('Proportion')\n",
    "ax.set_ylabel('Feature')\n",
    "\n",
    "plt.show()"
   ]
  },
  {
   "cell_type": "markdown",
   "metadata": {},
   "source": [
    "Based on the results from our Project 3, we have indications that the missingness in complainant_gender are likely to be correlated to the mos_gender, mos_ethnicity, and allegation features.\n",
    "\n",
    "We could fill in these missing values by building a model that predicts the missing values based on the other columns. However, since the proportion of missing values is not too large, we decide to simply drop rows with missing values and continue."
   ]
  },
  {
   "cell_type": "code",
   "execution_count": 6,
   "metadata": {},
   "outputs": [],
   "source": [
    "nypd = nypd_full[feature_cols + ['binary_board_disposition']].dropna()"
   ]
  },
  {
   "cell_type": "markdown",
   "metadata": {},
   "source": [
    "**Preprocessing categorical features:**\n",
    "\n",
    "One-Hot Encoding:\n",
    "- mos_ethnicity\n",
    "- mos_gender\n",
    "- complainant_ethnicity\n",
    "- complainant_gender\n",
    "- fado_type\n",
    "\n",
    "Label Encoding:\n",
    "- command_at_incident\n",
    "- rank_abbrev_incident\n",
    "- allegation"
   ]
  },
  {
   "cell_type": "code",
   "execution_count": 81,
   "metadata": {},
   "outputs": [
    {
     "data": {
      "text/plain": [
       "<AxesSubplot:xlabel='mos_age_incident_binned', ylabel='count'>"
      ]
     },
     "execution_count": 81,
     "metadata": {},
     "output_type": "execute_result"
    },
    {
     "data": {
      "image/png": "[encoded data removed]",
      "text/plain": [
       "<Figure size 576x288 with 1 Axes>"
      ]
     },
     "metadata": {
      "image/png": {
       "height": 262,
       "width": 506
      },
      "needs_background": "light"
     },
     "output_type": "display_data"
    }
   ],
   "source": [
    "passthrough_cols = ['year_received', 'shield_no', 'month_received', \n",
    "                    'mos_age_incident', 'complainant_age_incident', \n",
    "                   'precinct']\n",
    "\n",
    "label_cols = ['mos_ethnicity']\n",
    "\n",
    "binning_cols = ['mos_age_incident']\n",
    "\n",
    "ct = ColumnTransformer(transformers = [\n",
    "    ('KBinsDiscretizer', KBinsDiscretizer(n_bins = 10, encode = 'ordinal'), binning_cols),\n",
    "    ('LabelEth', BetterLabelEncoder(), label_cols[0]),\n",
    "    ('Passthrough', FunctionTransformer(lambda x: x), passthrough_cols)\n",
    "])\n",
    "\n",
    "df = pd.DataFrame(ct.fit_transform(nypd))\n",
    "\n",
    "df = df.astype(float)\n",
    "\n",
    "df = pd.concat([df, nypd['binary_board_disposition']], axis = 1, ignore_index = True)\n",
    "\n",
    "df.columns = list(map(lambda x: x + '_binned', binning_cols)) + label_cols + passthrough_cols + ['binary_board_disposition']\n",
    "\n",
    "#sns.heatmap(df.corr().abs(), annot = True)\n",
    "\n",
    "#sns.countplot(data = df, x='mos_age_incident_binned', hue='binary_board_disposition')\n",
    "\n",
    "#sns.displot(data = df, x = 'mos_age_incident', hue = 'binary_board_disposition', kind = 'kde')"
   ]
  },
  {
   "cell_type": "code",
   "execution_count": 70,
   "metadata": {},
   "outputs": [
    {
     "name": "stdout",
     "output_type": "stream",
     "text": [
      "Training F-1 Score: 0.8225375282747275\n",
      "Testing F-1 Score: 0.4616922051965357\n"
     ]
    }
   ],
   "source": [
    "rf = RandomForestClassifier()\n",
    "\n",
    "pl = Pipeline(steps = [\n",
    "    ('preproc', ct),\n",
    "    ('rf', rf)\n",
    "])\n",
    "\n",
    "X = nypd.drop('binary_board_disposition', axis = 1)\n",
    "y = nypd['binary_board_disposition']\n",
    "\n",
    "X_train, X_test, y_train, y_test = train_test_split(X, y)\n",
    "\n",
    "pl.fit(X_train, y_train)\n",
    "\n",
    "train_preds = pl.predict(X_train)\n",
    "train_f1 = f1_score(y_train, train_preds)\n",
    "\n",
    "test_preds = pl.predict(X_test)\n",
    "test_f1 = f1_score(y_test, test_preds)\n",
    "\n",
    "print(f'Training F-1 Score: {train_f1}')\n",
    "print(f'Testing F-1 Score: {test_f1}')"
   ]
  },
  {
   "cell_type": "markdown",
   "metadata": {},
   "source": [
    "---"
   ]
  },
  {
   "cell_type": "code",
   "execution_count": 464,
   "metadata": {},
   "outputs": [],
   "source": [
    "# Preprocessing\n",
    "\n",
    "num_cols = ['shield_no', 'month_received', 'year_received', 'mos_age_incident',\n",
    "            'complainant_age_incident', 'precinct']\n",
    "\n",
    "oh_cols = ['mos_ethnicity', 'mos_gender', 'complainant_ethnicity', 'complainant_gender', 'fado_type']\n",
    "\n",
    "label_cols = ['command_at_incident', 'rank_abbrev_incident', 'allegation']\n",
    "\n",
    "ohe = OneHotEncoder(handle_unknown = 'ignore')\n",
    "\n",
    "le1 = BetterLabelEncoder()\n",
    "le2 = BetterLabelEncoder()\n",
    "le3 = BetterLabelEncoder()\n",
    "\n",
    "cat_encoder = ColumnTransformer(transformers = [\n",
    "    ('OneHot', ohe, oh_cols),\n",
    "    ('Label1', le1, label_cols[0]),\n",
    "    ('Label2', le2, label_cols[1]),\n",
    "    ('Label3', le3, label_cols[2])], \n",
    "                                remainder = 'passthrough')"
   ]
  },
  {
   "cell_type": "code",
   "execution_count": 95,
   "metadata": {},
   "outputs": [],
   "source": [
    "# Bulding pipeline\n",
    "\n",
    "decision_tree = DecisionTreeClassifier()\n",
    "\n",
    "pl = Pipeline(steps = [\n",
    "    ('CatEncode', cat_encoder), \n",
    "    ('Estimator', decision_tree)])"
   ]
  },
  {
   "cell_type": "code",
   "execution_count": 96,
   "metadata": {},
   "outputs": [],
   "source": [
    "X = nypd[feature_cols]\n",
    "y = nypd['binary_board_disposition']\n",
    "\n",
    "X_train, X_test, y_train, y_test = train_test_split(X, y)"
   ]
  },
  {
   "cell_type": "code",
   "execution_count": 97,
   "metadata": {
    "scrolled": true
   },
   "outputs": [
    {
     "name": "stdout",
     "output_type": "stream",
     "text": [
      "Training F-1 Score: 0.9885323311168931\n",
      "Testing F-1 Score: 0.40670264129508654\n"
     ]
    }
   ],
   "source": [
    "pl.fit(X_train, y_train)\n",
    "\n",
    "train_preds = pl.predict(X_train)\n",
    "train_f1 = f1_score(y_train, train_preds)\n",
    "\n",
    "test_preds = pl.predict(X_test)\n",
    "test_f1 = f1_score(y_test, test_preds)\n",
    "\n",
    "print(f'Training F-1 Score: {train_f1}')\n",
    "print(f'Testing F-1 Score: {test_f1}')"
   ]
  },
  {
   "cell_type": "code",
   "execution_count": 134,
   "metadata": {},
   "outputs": [
    {
     "data": {
      "image/png": "[encoded data removed]",
      "text/plain": [
       "<Figure size 576x288 with 2 Axes>"
      ]
     },
     "metadata": {
      "image/png": {
       "height": 277,
       "width": 457
      },
      "needs_background": "light"
     },
     "output_type": "display_data"
    }
   ],
   "source": [
    "# Plotting confusion matrix\n",
    "\n",
    "fig = sns.heatmap(confusion_matrix(y_test, test_preds, normalize = 'true'), annot = True)\n",
    "fig.set_title('Normalized Confusion Matrix of Test Results')\n",
    "fig.set_xlabel('Prediction')\n",
    "fig.set_ylabel('True value')\n",
    "plt.show()"
   ]
  },
  {
   "cell_type": "markdown",
   "metadata": {},
   "source": [
    "### Final Model"
   ]
  },
  {
   "cell_type": "code",
   "execution_count": 247,
   "metadata": {},
   "outputs": [],
   "source": [
    "X = nypd[feature_cols]\n",
    "y = nypd['binary_board_disposition']\n",
    "\n",
    "X_train, X_test, y_train, y_test = train_test_split(X, y)"
   ]
  },
  {
   "cell_type": "markdown",
   "metadata": {},
   "source": [
    "#### Feature Engineering"
   ]
  },
  {
   "cell_type": "code",
   "execution_count": 475,
   "metadata": {},
   "outputs": [],
   "source": [
    "# Feature engineering\n",
    "\n",
    "def combine_fado_allegation(nypd):\n",
    "    fado_type_col = nypd['fado_type'].reset_index(drop = True)\n",
    "    allegation_col = nypd['allegation'].reset_index(drop = True)\n",
    "    encoded_fado_allegation = BetterLabelEncoder().fit_transform(fado_type_col + '_' + allegation_col)\n",
    "    return pd.DataFrame(encoded_fado_allegation)\n",
    "\n",
    "def difference_in_age(nypd):\n",
    "    mos_age = nypd['mos_age_incident']\n",
    "    comp_age = nypd['complainant_age_incident']\n",
    "    age_diff = pd.DataFrame(mos_age - comp_age)\n",
    "    scaled_age_diff = StandardScaler().fit_transform(age_diff)\n",
    "    return pd.DataFrame(scaled_age_diff)\n",
    "\n",
    "def same_ethnicity(nypd):\n",
    "    mos_eth = nypd['mos_ethnicity']\n",
    "    comp_eth = nypd['complainant_ethnicity']\n",
    "    same_eth = mos_eth == comp_eth\n",
    "    return pd.DataFrame(same_eth)\n",
    "\n",
    "def same_gender(nypd):\n",
    "    mos_gender = nypd['mos_gender']\n",
    "    comp_gender = nypd['complainant_gender']\n",
    "    same_gender = mos_gender == comp_gender\n",
    "    return pd.DataFrame(same_gender)\n",
    "\n",
    "\n",
    "num_cols = ['shield_no', 'month_received', 'year_received', 'mos_age_incident',\n",
    "            'complainant_age_incident', 'precinct']\n",
    "\n",
    "oh_cols = ['mos_ethnicity', 'complainant_ethnicity',\n",
    "           'mos_gender',  'complainant_gender', \n",
    "           'fado_type', 'command_at_incident']\n",
    "\n",
    "label_cols = ['rank_abbrev_incident', 'allegation', 'fado_allegation']\n",
    "\n",
    "preproc = ColumnTransformer(transformers = [\n",
    "    ('CombineFadoAllegations', FunctionTransformer(combine_fado_allegation), ['fado_type', 'allegation']),\n",
    "    ('DifferenceInAge', FunctionTransformer(difference_in_age), ['mos_age_incident', 'complainant_age_incident']),\n",
    "    ('SameEthnicity', FunctionTransformer(same_ethnicity), ['mos_ethnicity', 'complainant_ethnicity']),\n",
    "    ('SameGender', FunctionTransformer(same_gender), ['mos_gender', 'complainant_gender']),\n",
    "    ('OneHot', OneHotEncoder(handle_unknown = 'ignore'), oh_cols),\n",
    "    ('LeRank', BetterLabelEncoder(), 'rank_abbrev_incident'),\n",
    "    ('LeAllegation', BetterLabelEncoder(), 'allegation'),\n",
    "    ('ZScaling', StandardScaler(), ['mos_age_incident', 'complainant_age_incident']),\n",
    "],\n",
    "                            remainder = 'passthrough')\n"
   ]
  },
  {
   "cell_type": "markdown",
   "metadata": {},
   "source": [
    "#### Model Comparison"
   ]
  },
  {
   "cell_type": "markdown",
   "metadata": {},
   "source": [
    "**Decision Tree**"
   ]
  },
  {
   "cell_type": "code",
   "execution_count": 249,
   "metadata": {},
   "outputs": [
    {
     "name": "stdout",
     "output_type": "stream",
     "text": [
      "Training F-1 Score: 0.9884102762217499\n",
      "Testing F-1 Score: 0.38022999755321757\n"
     ]
    }
   ],
   "source": [
    "# Building DecisionTreeClassifier model\n",
    "\n",
    "pl = Pipeline(steps = [\n",
    "    ('Preprocess', preproc), \n",
    "    ('DecisionTree', DecisionTreeClassifier())\n",
    "])\n",
    "\n",
    "pl.fit(X_train, y_train)\n",
    "\n",
    "train_preds = pl.predict(X_train)\n",
    "train_f1 = f1_score(y_train, train_preds)\n",
    "\n",
    "test_preds = pl.predict(X_test)\n",
    "test_f1 = f1_score(y_test, test_preds)\n",
    "\n",
    "print(f'Training F-1 Score: {train_f1}')\n",
    "print(f'Testing F-1 Score: {test_f1}')"
   ]
  },
  {
   "cell_type": "code",
   "execution_count": 278,
   "metadata": {},
   "outputs": [],
   "source": [
    "# Optimizing DecisionTreeClassifier model\n",
    "\n",
    "param_grid = {'DecisionTree__max_depth' : range(10, 200, 10),\n",
    "             'DecisionTree__min_samples_split' : range(5, 50, 5),\n",
    "             'DecisionTree__min_samples_leaf' : range(10)}\n",
    "\n",
    "grid_search = GridSearchCV(pl, param_grid, scoring = 'f1', cv = 5, n_jobs = -1, verbose = 4)"
   ]
  },
  {
   "cell_type": "code",
   "execution_count": 279,
   "metadata": {
    "scrolled": false
   },
   "outputs": [
    {
     "name": "stdout",
     "output_type": "stream",
     "text": [
      "Fitting 5 folds for each of 1710 candidates, totalling 8550 fits\n"
     ]
    },
    {
     "name": "stderr",
     "output_type": "stream",
     "text": [
      "/opt/anaconda3/lib/python3.8/site-packages/sklearn/model_selection/_search.py:918: UserWarning: One or more of the test scores are non-finite: [       nan        nan        nan ... 0.33777894 0.32479103 0.34425036]\n",
      "  warnings.warn(\n"
     ]
    },
    {
     "data": {
      "text/plain": [
       "GridSearchCV(cv=5,\n",
       "             estimator=Pipeline(steps=[('Preprocess',\n",
       "                                        ColumnTransformer(remainder='passthrough',\n",
       "                                                          transformers=[('CombineFadoAllegations',\n",
       "                                                                         FunctionTransformer(func=<function combine_fado_allegation at 0x7ffe9b7df280>),\n",
       "                                                                         ['fado_type',\n",
       "                                                                          'allegation']),\n",
       "                                                                        ('DifferenceInAge',\n",
       "                                                                         FunctionTransformer(func=<function difference_in_age at 0x7ffe96ba6b80>),\n",
       "                                                                         ['mos_age_inciden...\n",
       "                                                                        ('LeAllegation',\n",
       "                                                                         BetterLabelEncoder(),\n",
       "                                                                         'allegation'),\n",
       "                                                                        ('ZScaling',\n",
       "                                                                         StandardScaler(),\n",
       "                                                                         ['mos_age_incident',\n",
       "                                                                          'complainant_age_incident'])])),\n",
       "                                       ('DecisionTree',\n",
       "                                        DecisionTreeClassifier())]),\n",
       "             n_jobs=-1,\n",
       "             param_grid={'DecisionTree__max_depth': range(10, 200, 10),\n",
       "                         'DecisionTree__min_samples_leaf': range(0, 10),\n",
       "                         'DecisionTree__min_samples_split': range(5, 50, 5)},\n",
       "             scoring='f1', verbose=4)"
      ]
     },
     "execution_count": 279,
     "metadata": {},
     "output_type": "execute_result"
    }
   ],
   "source": [
    "grid_search.fit(X_train, y_train)"
   ]
  },
  {
   "cell_type": "code",
   "execution_count": 280,
   "metadata": {
    "scrolled": true
   },
   "outputs": [
    {
     "data": {
      "text/plain": [
       "{'DecisionTree__max_depth': 170,\n",
       " 'DecisionTree__min_samples_leaf': 2,\n",
       " 'DecisionTree__min_samples_split': 30}"
      ]
     },
     "execution_count": 280,
     "metadata": {},
     "output_type": "execute_result"
    }
   ],
   "source": [
    "grid_search.best_params_"
   ]
  },
  {
   "cell_type": "code",
   "execution_count": 281,
   "metadata": {},
   "outputs": [
    {
     "name": "stdout",
     "output_type": "stream",
     "text": [
      "Training F-1 Score: 0.6317046688382194\n",
      "Testing F-1 Score: 0.3611111111111111\n"
     ]
    }
   ],
   "source": [
    "# Testing Tuned DecisionTreeClassifier model\n",
    "\n",
    "pl.set_params(**grid_search.best_params_)\n",
    "\n",
    "pl.fit(X_train, y_train)\n",
    "\n",
    "train_preds = pl.predict(X_train)\n",
    "train_f1 = f1_score(y_train, train_preds)\n",
    "\n",
    "test_preds = pl.predict(X_test)\n",
    "test_f1 = f1_score(y_test, test_preds)\n",
    "\n",
    "print(f'Training F-1 Score: {train_f1}')\n",
    "print(f'Testing F-1 Score: {test_f1}')"
   ]
  },
  {
   "cell_type": "code",
   "execution_count": null,
   "metadata": {},
   "outputs": [],
   "source": [
    "# Plotting confusion matrix\n",
    "\n",
    "fig = sns.heatmap(confusion_matrix(y_test, test_preds, normalize = 'true'), annot = True)\n",
    "fig.set_title('Normalized Confusion Matrix of Test Results')\n",
    "fig.set_xlabel('Prediction')\n",
    "fig.set_ylabel('True value')\n",
    "plt.show()"
   ]
  },
  {
   "cell_type": "markdown",
   "metadata": {},
   "source": [
    "---"
   ]
  },
  {
   "cell_type": "markdown",
   "metadata": {},
   "source": [
    "**Logistic Regression**"
   ]
  },
  {
   "cell_type": "code",
   "execution_count": 289,
   "metadata": {},
   "outputs": [
    {
     "name": "stdout",
     "output_type": "stream",
     "text": [
      "Training F-1 Score: 0.02052238805970149\n",
      "Testing F-1 Score: 0.034968979131415674\n"
     ]
    }
   ],
   "source": [
    "# Building LogisticRegression model\n",
    "\n",
    "pl = Pipeline(steps = [\n",
    "    ('Preprocess', preproc), \n",
    "    ('Logit', LogisticRegression())\n",
    "])\n",
    "\n",
    "pl.fit(X_train, y_train)\n",
    "\n",
    "train_preds = pl.predict(X_train)\n",
    "train_f1 = f1_score(y_train, train_preds)\n",
    "\n",
    "test_preds = pl.predict(X_test)\n",
    "test_f1 = f1_score(y_test, test_preds)\n",
    "\n",
    "print(f'Training F-1 Score: {train_f1}')\n",
    "print(f'Testing F-1 Score: {test_f1}')"
   ]
  },
  {
   "cell_type": "code",
   "execution_count": 290,
   "metadata": {},
   "outputs": [],
   "source": [
    "# Optimizing LogisticRegression model\n",
    "\n",
    "param_grid = {'Logit__tol' : [1e-5, 1e-4, 1e-3],\n",
    "             'Logit__C' : np.arange(0.5, 1.5, 0.1),\n",
    "             'Logit__solver' : ['lbfgs', 'sag', 'saga']}\n",
    "\n",
    "grid_search = GridSearchCV(pl, param_grid, scoring = 'f1', cv = 5, n_jobs = -1, verbose = 4)"
   ]
  },
  {
   "cell_type": "code",
   "execution_count": 291,
   "metadata": {},
   "outputs": [
    {
     "name": "stdout",
     "output_type": "stream",
     "text": [
      "Fitting 5 folds for each of 90 candidates, totalling 450 fits\n"
     ]
    },
    {
     "data": {
      "text/plain": [
       "GridSearchCV(cv=5,\n",
       "             estimator=Pipeline(steps=[('Preprocess',\n",
       "                                        ColumnTransformer(remainder='passthrough',\n",
       "                                                          transformers=[('CombineFadoAllegations',\n",
       "                                                                         FunctionTransformer(func=<function combine_fado_allegation at 0x7ffe9b7df280>),\n",
       "                                                                         ['fado_type',\n",
       "                                                                          'allegation']),\n",
       "                                                                        ('DifferenceInAge',\n",
       "                                                                         FunctionTransformer(func=<function difference_in_age at 0x7ffe96ba6b80>),\n",
       "                                                                         ['mos_age_inciden...\n",
       "                                                                         'rank_abbrev_incident'),\n",
       "                                                                        ('LeAllegation',\n",
       "                                                                         BetterLabelEncoder(),\n",
       "                                                                         'allegation'),\n",
       "                                                                        ('ZScaling',\n",
       "                                                                         StandardScaler(),\n",
       "                                                                         ['mos_age_incident',\n",
       "                                                                          'complainant_age_incident'])])),\n",
       "                                       ('Logit', LogisticRegression())]),\n",
       "             n_jobs=-1,\n",
       "             param_grid={'Logit__C': array([0.5, 0.6, 0.7, 0.8, 0.9, 1. , 1.1, 1.2, 1.3, 1.4]),\n",
       "                         'Logit__solver': ['lbfgs', 'sag', 'saga'],\n",
       "                         'Logit__tol': [1e-05, 0.0001, 0.001]},\n",
       "             scoring='f1', verbose=4)"
      ]
     },
     "execution_count": 291,
     "metadata": {},
     "output_type": "execute_result"
    }
   ],
   "source": [
    "grid_search.fit(X_train, y_train)"
   ]
  },
  {
   "cell_type": "code",
   "execution_count": 292,
   "metadata": {
    "scrolled": true
   },
   "outputs": [
    {
     "data": {
      "text/plain": [
       "{'Logit__C': 0.6, 'Logit__solver': 'lbfgs', 'Logit__tol': 1e-05}"
      ]
     },
     "execution_count": 292,
     "metadata": {},
     "output_type": "execute_result"
    }
   ],
   "source": [
    "grid_search.best_params_"
   ]
  },
  {
   "cell_type": "code",
   "execution_count": 293,
   "metadata": {},
   "outputs": [
    {
     "name": "stdout",
     "output_type": "stream",
     "text": [
      "Training F-1 Score: 0.02052238805970149\n",
      "Testing F-1 Score: 0.034968979131415674\n"
     ]
    }
   ],
   "source": [
    "# Testing Tuned DecisionTreeClassifier model\n",
    "\n",
    "pl.set_params(**grid_search.best_params_)\n",
    "\n",
    "pl.fit(X_train, y_train)\n",
    "\n",
    "train_preds = pl.predict(X_train)\n",
    "train_f1 = f1_score(y_train, train_preds)\n",
    "\n",
    "test_preds = pl.predict(X_test)\n",
    "test_f1 = f1_score(y_test, test_preds)\n",
    "\n",
    "print(f'Training F-1 Score: {train_f1}')\n",
    "print(f'Testing F-1 Score: {test_f1}')"
   ]
  },
  {
   "cell_type": "code",
   "execution_count": 294,
   "metadata": {},
   "outputs": [
    {
     "data": {
      "image/png": "[encoded data removed]",
      "text/plain": [
       "<Figure size 576x288 with 2 Axes>"
      ]
     },
     "metadata": {
      "image/png": {
       "height": 277,
       "width": 457
      },
      "needs_background": "light"
     },
     "output_type": "display_data"
    }
   ],
   "source": [
    "# Plotting confusion matrix\n",
    "\n",
    "fig = sns.heatmap(confusion_matrix(y_test, test_preds, normalize = 'true'), annot = True)\n",
    "fig.set_title('Normalized Confusion Matrix of Test Results')\n",
    "fig.set_xlabel('Prediction')\n",
    "fig.set_ylabel('True value')\n",
    "plt.show()"
   ]
  },
  {
   "cell_type": "markdown",
   "metadata": {},
   "source": [
    "---"
   ]
  },
  {
   "cell_type": "markdown",
   "metadata": {},
   "source": [
    "**Support Vector Machine**"
   ]
  },
  {
   "cell_type": "code",
   "execution_count": 345,
   "metadata": {},
   "outputs": [
    {
     "name": "stdout",
     "output_type": "stream",
     "text": [
      "Training F-1 Score: 0.27457147350212296\n",
      "Testing F-1 Score: 0.26575082899099955\n"
     ]
    },
    {
     "name": "stderr",
     "output_type": "stream",
     "text": [
      "/opt/anaconda3/lib/python3.8/site-packages/sklearn/svm/_base.py:985: ConvergenceWarning: Liblinear failed to converge, increase the number of iterations.\n",
      "  warnings.warn(\"Liblinear failed to converge, increase \"\n"
     ]
    }
   ],
   "source": [
    "# Building LinearSVC model\n",
    "\n",
    "pl = Pipeline(steps = [\n",
    "    ('Preprocess', preproc), \n",
    "    ('SVC', LinearSVC(max_iter = 15000))\n",
    "])\n",
    "\n",
    "pl.fit(X_train, y_train)\n",
    "\n",
    "train_preds = pl.predict(X_train)\n",
    "train_f1 = f1_score(y_train, train_preds)\n",
    "\n",
    "test_preds = pl.predict(X_test)\n",
    "test_f1 = f1_score(y_test, test_preds)\n",
    "\n",
    "print(f'Training F-1 Score: {train_f1}')\n",
    "print(f'Testing F-1 Score: {test_f1}')"
   ]
  },
  {
   "cell_type": "code",
   "execution_count": 346,
   "metadata": {},
   "outputs": [
    {
     "data": {
      "image/png": "[encoded data removed]",
      "text/plain": [
       "<Figure size 576x288 with 2 Axes>"
      ]
     },
     "metadata": {
      "image/png": {
       "height": 277,
       "width": 463
      },
      "needs_background": "light"
     },
     "output_type": "display_data"
    }
   ],
   "source": [
    "# Plotting confusion matrix\n",
    "\n",
    "fig = sns.heatmap(confusion_matrix(y_test, test_preds, normalize = 'true'), annot = True)\n",
    "fig.set_title('Normalized Confusion Matrix of Test Results')\n",
    "fig.set_xlabel('Prediction')\n",
    "fig.set_ylabel('True value')\n",
    "plt.show()"
   ]
  },
  {
   "cell_type": "markdown",
   "metadata": {},
   "source": [
    "---"
   ]
  },
  {
   "cell_type": "markdown",
   "metadata": {},
   "source": [
    "**K-Nearest Neighbors**"
   ]
  },
  {
   "cell_type": "code",
   "execution_count": 361,
   "metadata": {},
   "outputs": [
    {
     "name": "stdout",
     "output_type": "stream",
     "text": [
      "Training F-1 Score: 0.6268723451822044\n",
      "Testing F-1 Score: 0.3224711473183978\n"
     ]
    }
   ],
   "source": [
    "# Building KNeighborsClassifier model\n",
    "\n",
    "pl = Pipeline(steps = [\n",
    "    ('Preprocess', preproc), \n",
    "    ('SVC', KNeighborsClassifier(n_neighbors = 3))\n",
    "])\n",
    "\n",
    "pl.fit(X_train, y_train)\n",
    "\n",
    "train_preds = pl.predict(X_train)\n",
    "train_f1 = f1_score(y_train, train_preds)\n",
    "\n",
    "test_preds = pl.predict(X_test)\n",
    "test_f1 = f1_score(y_test, test_preds)\n",
    "\n",
    "print(f'Training F-1 Score: {train_f1}')\n",
    "print(f'Testing F-1 Score: {test_f1}')"
   ]
  },
  {
   "cell_type": "code",
   "execution_count": 362,
   "metadata": {
    "scrolled": true
   },
   "outputs": [
    {
     "data": {
      "image/png": "[encoded data removed]",
      "text/plain": [
       "<Figure size 576x288 with 2 Axes>"
      ]
     },
     "metadata": {
      "image/png": {
       "height": 277,
       "width": 457
      },
      "needs_background": "light"
     },
     "output_type": "display_data"
    }
   ],
   "source": [
    "# Plotting confusion matrix\n",
    "\n",
    "fig = sns.heatmap(confusion_matrix(y_test, test_preds, normalize = 'true'), annot = True)\n",
    "fig.set_title('Normalized Confusion Matrix of Test Results')\n",
    "fig.set_xlabel('Prediction')\n",
    "fig.set_ylabel('True value')\n",
    "plt.show()"
   ]
  },
  {
   "cell_type": "markdown",
   "metadata": {},
   "source": [
    "---"
   ]
  },
  {
   "cell_type": "markdown",
   "metadata": {},
   "source": [
    "**Random Forest**"
   ]
  },
  {
   "cell_type": "code",
   "execution_count": 396,
   "metadata": {},
   "outputs": [
    {
     "name": "stdout",
     "output_type": "stream",
     "text": [
      "Training F-1 Score: 0.9884021853733346\n",
      "Testing F-1 Score: 0.3494423791821561\n"
     ]
    }
   ],
   "source": [
    "# Building RandomForestClassifier model\n",
    "\n",
    "pl = Pipeline(steps = [\n",
    "    ('Preprocess', preproc), \n",
    "    ('RFC', RandomForestClassifier())\n",
    "])\n",
    "\n",
    "pl.fit(X_train, y_train)\n",
    "\n",
    "train_preds = pl.predict(X_train)\n",
    "train_f1 = f1_score(y_train, train_preds)\n",
    "\n",
    "test_preds = pl.predict(X_test)\n",
    "test_f1 = f1_score(y_test, test_preds)\n",
    "\n",
    "print(f'Training F-1 Score: {train_f1}')\n",
    "print(f'Testing F-1 Score: {test_f1}')"
   ]
  },
  {
   "cell_type": "code",
   "execution_count": 404,
   "metadata": {},
   "outputs": [],
   "source": [
    "# Optimizing RandomForestClassifier model\n",
    "\n",
    "param_grid = {'RFC__max_depth' : [None],\n",
    "             'RFC__min_samples_split' : range(1, 50, 10),\n",
    "             'RFC__min_samples_leaf' : range(10)}\n",
    "\n",
    "grid_search = GridSearchCV(pl, param_grid, scoring = 'f1', cv = 5, n_jobs = -1, verbose = 4)"
   ]
  },
  {
   "cell_type": "code",
   "execution_count": 406,
   "metadata": {
    "scrolled": true
   },
   "outputs": [
    {
     "data": {
      "text/plain": [
       "{'RFC__max_depth': None,\n",
       " 'RFC__min_samples_leaf': 1,\n",
       " 'RFC__min_samples_split': 11}"
      ]
     },
     "execution_count": 406,
     "metadata": {},
     "output_type": "execute_result"
    }
   ],
   "source": [
    "grid_search.best_params_"
   ]
  },
  {
   "cell_type": "code",
   "execution_count": 414,
   "metadata": {},
   "outputs": [
    {
     "name": "stdout",
     "output_type": "stream",
     "text": [
      "Training F-1 Score: 0.9853423336547734\n",
      "Testing F-1 Score: 0.3595041322314049\n"
     ]
    }
   ],
   "source": [
    "# Testing Tuned DecisionTreeClassifier model\n",
    "\n",
    "pl.set_params(**{'RFC__max_depth': None,\n",
    " 'RFC__min_samples_leaf': 1,\n",
    " 'RFC__min_samples_split': 3})\n",
    "\n",
    "pl.fit(X_train, y_train)\n",
    "\n",
    "train_preds = pl.predict(X_train)\n",
    "train_f1 = f1_score(y_train, train_preds)\n",
    "\n",
    "test_preds = pl.predict(X_test)\n",
    "test_f1 = f1_score(y_test, test_preds)\n",
    "\n",
    "print(f'Training F-1 Score: {train_f1}')\n",
    "print(f'Testing F-1 Score: {test_f1}')"
   ]
  },
  {
   "cell_type": "code",
   "execution_count": 415,
   "metadata": {
    "scrolled": true
   },
   "outputs": [
    {
     "data": {
      "image/png": "[encoded data removed]",
      "text/plain": [
       "<Figure size 576x288 with 2 Axes>"
      ]
     },
     "metadata": {
      "image/png": {
       "height": 277,
       "width": 457
      },
      "needs_background": "light"
     },
     "output_type": "display_data"
    }
   ],
   "source": [
    "# Plotting confusion matrix\n",
    "\n",
    "fig = sns.heatmap(confusion_matrix(y_test, test_preds, normalize = 'true'), annot = True)\n",
    "fig.set_title('Normalized Confusion Matrix of Test Results')\n",
    "fig.set_xlabel('Prediction')\n",
    "fig.set_ylabel('True value')\n",
    "plt.show()"
   ]
  },
  {
   "cell_type": "markdown",
   "metadata": {},
   "source": [
    "---"
   ]
  },
  {
   "cell_type": "markdown",
   "metadata": {},
   "source": [
    "**Ensembling**"
   ]
  },
  {
   "cell_type": "markdown",
   "metadata": {},
   "source": [
    "We saw that the models that performed best were RandomForest and KNeighbors. Here, we will try stacking them together and seeing if that improves results."
   ]
  },
  {
   "cell_type": "markdown",
   "metadata": {},
   "source": [
    "**StackingClassifier**"
   ]
  },
  {
   "cell_type": "code",
   "execution_count": 477,
   "metadata": {},
   "outputs": [
    {
     "name": "stdout",
     "output_type": "stream",
     "text": [
      "Training F-1 Score: 0.7200565304439994\n",
      "Testing F-1 Score: 0.3814392449862367\n"
     ]
    }
   ],
   "source": [
    "# Building StackingClassifier model\n",
    "\n",
    "stack = StackingClassifier(estimators = [\n",
    "    ('KNN', KNeighborsClassifier(n_neighbors = 3)),\n",
    "    ('RF', RandomForestClassifier(min_samples_split = 4, min_samples_leaf = 2))\n",
    "])\n",
    "\n",
    "pl = Pipeline(steps = [\n",
    "    ('Preprocess', preproc), \n",
    "    ('Stack', stack)\n",
    "])\n",
    "\n",
    "pl.fit(X_train, y_train)\n",
    "\n",
    "train_preds = pl.predict(X_train)\n",
    "train_f1 = f1_score(y_train, train_preds)\n",
    "\n",
    "test_preds = pl.predict(X_test)\n",
    "test_f1 = f1_score(y_test, test_preds)\n",
    "\n",
    "print(f'Training F-1 Score: {train_f1}')\n",
    "print(f'Testing F-1 Score: {test_f1}')"
   ]
  },
  {
   "cell_type": "code",
   "execution_count": 478,
   "metadata": {
    "scrolled": true
   },
   "outputs": [
    {
     "data": {
      "image/png": "[encoded data removed]",
      "text/plain": [
       "<Figure size 576x288 with 2 Axes>"
      ]
     },
     "metadata": {
      "image/png": {
       "height": 277,
       "width": 457
      },
      "needs_background": "light"
     },
     "output_type": "display_data"
    }
   ],
   "source": [
    "# Plotting confusion matrix\n",
    "\n",
    "fig = sns.heatmap(confusion_matrix(y_test, test_preds, normalize = 'true'), annot = True)\n",
    "fig.set_title('Normalized Confusion Matrix of Test Results')\n",
    "fig.set_xlabel('Prediction')\n",
    "fig.set_ylabel('True value')\n",
    "plt.show()"
   ]
  },
  {
   "cell_type": "markdown",
   "metadata": {},
   "source": [
    "**Soft Voting**"
   ]
  },
  {
   "cell_type": "code",
   "execution_count": 448,
   "metadata": {},
   "outputs": [
    {
     "name": "stdout",
     "output_type": "stream",
     "text": [
      "Training F-1 Score: 0.6310438879246218\n",
      "Testing F-1 Score: 0.2953181272509004\n"
     ]
    }
   ],
   "source": [
    "# Building StackingClassifier model\n",
    "\n",
    "voting = VotingClassifier(estimators = [\n",
    "    ('RF', RandomForestClassifier(min_samples_split = 4, min_samples_leaf = 2)),\n",
    "    ('KNN', KNeighborsClassifier(n_neighbors = 3))\n",
    "],\n",
    "                         voting = 'soft')\n",
    "\n",
    "pl = Pipeline(steps = [\n",
    "    ('Preprocess', preproc),\n",
    "    ('Voting', voting)\n",
    "])\n",
    "\n",
    "pl.fit(X_train, y_train)\n",
    "\n",
    "train_preds = pl.predict(X_train)\n",
    "train_f1 = f1_score(y_train, train_preds)\n",
    "\n",
    "test_preds = pl.predict(X_test)\n",
    "test_f1 = f1_score(y_test, test_preds)\n",
    "\n",
    "print(f'Training F-1 Score: {train_f1}')\n",
    "print(f'Testing F-1 Score: {test_f1}')"
   ]
  },
  {
   "cell_type": "code",
   "execution_count": 449,
   "metadata": {
    "scrolled": false
   },
   "outputs": [
    {
     "data": {
      "image/png": "[encoded data removed]",
      "text/plain": [
       "<Figure size 576x288 with 2 Axes>"
      ]
     },
     "metadata": {
      "image/png": {
       "height": 277,
       "width": 457
      },
      "needs_background": "light"
     },
     "output_type": "display_data"
    }
   ],
   "source": [
    "# Plotting confusion matrix\n",
    "\n",
    "fig = sns.heatmap(confusion_matrix(y_test, test_preds, normalize = 'true'), annot = True)\n",
    "fig.set_title('Normalized Confusion Matrix of Test Results')\n",
    "fig.set_xlabel('Prediction')\n",
    "fig.set_ylabel('True value')\n",
    "plt.show()"
   ]
  },
  {
   "cell_type": "markdown",
   "metadata": {},
   "source": [
    "---"
   ]
  },
  {
   "cell_type": "markdown",
   "metadata": {},
   "source": [
    "**Feature Selection and Final Model**"
   ]
  },
  {
   "cell_type": "markdown",
   "metadata": {},
   "source": [
    "It appears that a stacking classifier with KNN and RandomForest is the best model. However, our test results after feature engineering are still lower than the baseline model. Here, we attempt to see which features are most important to a RandomForestClassifier to see if we can drop some possibly misleading features."
   ]
  },
  {
   "cell_type": "code",
   "execution_count": 531,
   "metadata": {
    "scrolled": false
   },
   "outputs": [
    {
     "data": {
      "text/plain": [
       "array([  0, 367, 372, 370,   1, 369, 368, 373, 371,  25,  27, 366,  11,\n",
       "         8,   2,   7,  12,   6,  19,  16,  21,  18,  17,  26,   5,  65,\n",
       "        95,  15,  93, 101,  69, 270,  13,  77,  10,  85, 121, 105, 115,\n",
       "       243,  71,  58,  89, 132, 238,  98,  72, 239, 128,  53])"
      ]
     },
     "execution_count": 531,
     "metadata": {},
     "output_type": "execute_result"
    }
   ],
   "source": [
    "forest = RandomForestClassifier(min_samples_split = 4, min_samples_leaf = 2)\n",
    "forest.fit(preproc.fit_transform(X_train), y_train)\n",
    "\n",
    "importances = forest.feature_importances_\n",
    "\n",
    "std = np.std([tree.feature_importances_ for tree in forest.estimators_], axis=0)\n",
    "\n",
    "feature_names = [i for i in range(preproc.fit_transform(X_train).shape[1])]\n",
    "\n",
    "forest_importances = pd.Series(importances, index=feature_names)\n",
    "\n",
    "best_features = list(forest_importances.sort_values(ascending = False).head(50).index)\n",
    "\n",
    "np.array(best_features)"
   ]
  },
  {
   "cell_type": "markdown",
   "metadata": {},
   "source": [
    "**StackingClassifier**"
   ]
  },
  {
   "cell_type": "code",
   "execution_count": 532,
   "metadata": {},
   "outputs": [
    {
     "name": "stdout",
     "output_type": "stream",
     "text": [
      "Training F-1 Score: 0.9091846201422533\n",
      "Testing F-1 Score: 0.38421681944998\n"
     ]
    }
   ],
   "source": [
    "# Building StackingClassifier model\n",
    "\n",
    "def get_important_columns(X):\n",
    "    return pd.DataFrame(X.toarray()).iloc[:, best_features]\n",
    "\n",
    "stack = StackingClassifier(estimators = [\n",
    "    ('KNN', KNeighborsClassifier(n_neighbors = 3)),\n",
    "    ('RF', RandomForestClassifier(min_samples_split = 4, min_samples_leaf = 2))\n",
    "])\n",
    "\n",
    "pl = Pipeline(steps = [\n",
    "    ('Preprocess', preproc), \n",
    "    ('TakeImportantFeats', FunctionTransformer(get_important_columns)),\n",
    "    ('Stack', stack)\n",
    "])\n",
    "\n",
    "pl.fit(X_train, y_train)\n",
    "\n",
    "train_preds = pl.predict(X_train)\n",
    "train_f1 = f1_score(y_train, train_preds)\n",
    "\n",
    "test_preds = pl.predict(X_test)\n",
    "test_f1 = f1_score(y_test, test_preds)\n",
    "\n",
    "print(f'Training F-1 Score: {train_f1}')\n",
    "print(f'Testing F-1 Score: {test_f1}')"
   ]
  },
  {
   "cell_type": "code",
   "execution_count": 533,
   "metadata": {
    "scrolled": false
   },
   "outputs": [
    {
     "data": {
      "image/png": "[encoded data removed]",
      "text/plain": [
       "<Figure size 576x288 with 2 Axes>"
      ]
     },
     "metadata": {
      "image/png": {
       "height": 277,
       "width": 457
      },
      "needs_background": "light"
     },
     "output_type": "display_data"
    }
   ],
   "source": [
    "# Plotting confusion matrix\n",
    "\n",
    "fig = sns.heatmap(confusion_matrix(y_test, test_preds, normalize = 'true'), annot = True)\n",
    "fig.set_title('Normalized Confusion Matrix of Test Results')\n",
    "fig.set_xlabel('Prediction')\n",
    "fig.set_ylabel('True value')\n",
    "plt.show()"
   ]
  },
  {
   "cell_type": "code",
   "execution_count": 565,
   "metadata": {},
   "outputs": [],
   "source": [
    "# Selecting final model:\n",
    "\n",
    "stack = StackingClassifier(estimators = [\n",
    "    ('KNN', KNeighborsClassifier(n_neighbors = 3)),\n",
    "    ('RF', RandomForestClassifier(min_samples_split = 4, min_samples_leaf = 2))\n",
    "])\n",
    "\n",
    "final_model = Pipeline(steps = [\n",
    "    ('Preprocess', preproc),\n",
    "    ('Stack', stack)\n",
    "])"
   ]
  },
  {
   "cell_type": "markdown",
   "metadata": {},
   "source": [
    "### Fairness Evaluation"
   ]
  },
  {
   "cell_type": "code",
   "execution_count": 560,
   "metadata": {},
   "outputs": [],
   "source": [
    "nypd['precinct_in_manhattan'] = nypd['precinct'].apply(lambda x: x < 40)"
   ]
  },
  {
   "cell_type": "code",
   "execution_count": 571,
   "metadata": {},
   "outputs": [],
   "source": [
    "def get_observed(data):\n",
    "    \n",
    "    nypd = data.copy()\n",
    "    \n",
    "    X_manhattan = nypd[nypd['precinct_in_manhattan'] == True][feature_cols]\n",
    "    y_manhattan = nypd[nypd['precinct_in_manhattan'] == True]['binary_board_disposition']\n",
    "    \n",
    "    X_train, X_test, y_train, y_test = train_test_split(X_manhattan, y_manhattan)\n",
    "    \n",
    "    final_model.fit(X_train, y_train)\n",
    "    test_preds = final_model.predict(X_test)\n",
    "    f1_manhattan = f1_score(y_test, test_preds)\n",
    "    \n",
    "    \n",
    "    X_nyc = nypd[nypd['precinct_in_manhattan'] == False][feature_cols]\n",
    "    y_nyc = nypd[nypd['precinct_in_manhattan'] == False]['binary_board_disposition']\n",
    "    \n",
    "    X_train, X_test, y_train, y_test = train_test_split(X_nyc, y_nyc)\n",
    "    \n",
    "    final_model.fit(X_train, y_train)\n",
    "    test_preds = final_model.predict(X_test)\n",
    "    f1_nyc = f1_score(y_test, test_preds)\n",
    "    \n",
    "    return f1_manhattan - f1_nyc"
   ]
  },
  {
   "cell_type": "code",
   "execution_count": 572,
   "metadata": {},
   "outputs": [],
   "source": [
    "def simulate_null(data):\n",
    "    \n",
    "    nypd = data.copy()\n",
    "    \n",
    "    nypd['precinct_in_manhattan'] = nypd['precinct_in_manhattan'].sample(\n",
    "        replace = False, frac = 1).reset_index(drop = True)\n",
    "    \n",
    "    X_manhattan = nypd[nypd['precinct_in_manhattan'] == True][feature_cols]\n",
    "    y_manhattan = nypd[nypd['precinct_in_manhattan'] == True]['binary_board_disposition']\n",
    "    \n",
    "    X_train, X_test, y_train, y_test = train_test_split(X_manhattan, y_manhattan)\n",
    "    \n",
    "    final_model.fit(X_train, y_train)\n",
    "    test_preds = final_model.predict(X_test)\n",
    "    f1_manhattan = f1_score(y_test, test_preds)\n",
    "    \n",
    "    \n",
    "    X_nyc = nypd[nypd['precinct_in_manhattan'] == False][feature_cols]\n",
    "    y_nyc = nypd[nypd['precinct_in_manhattan'] == False]['binary_board_disposition']\n",
    "    \n",
    "    X_train, X_test, y_train, y_test = train_test_split(X_nyc, y_nyc)\n",
    "    \n",
    "    final_model.fit(X_train, y_train)\n",
    "    test_preds = final_model.predict(X_test)\n",
    "    f1_nyc = f1_score(y_test, test_preds)\n",
    "    \n",
    "    return f1_manhattan - f1_nyc"
   ]
  },
  {
   "cell_type": "code",
   "execution_count": 574,
   "metadata": {},
   "outputs": [],
   "source": [
    "def permutation_test(data, N_permutations):\n",
    "    \n",
    "    import time\n",
    "    \n",
    "    start_time = time.time()\n",
    "    \n",
    "    obs = get_observed(data)\n",
    "    \n",
    "    simulations = np.array([])\n",
    "    \n",
    "    for i in range(N_permutations):\n",
    "        sim = simulate_null(data)\n",
    "        simulations = np.append(simulations, sim)\n",
    "        print(f'Permutation {i} done. Time elapsed: {time.time() - start_time}')\n",
    "        \n",
    "    p_val = np.count_nonzero(simulations > obs) / N_permutations\n",
    "    \n",
    "    return (simulations, p_val)"
   ]
  },
  {
   "cell_type": "code",
   "execution_count": 575,
   "metadata": {
    "collapsed": true
   },
   "outputs": [
    {
     "name": "stdout",
     "output_type": "stream",
     "text": [
      "Permutation 0 done. Time elapsed: 102.37637114524841\n",
      "Permutation 1 done. Time elapsed: 141.82971215248108\n",
      "Permutation 2 done. Time elapsed: 188.643550157547\n",
      "Permutation 3 done. Time elapsed: 246.24431109428406\n",
      "Permutation 4 done. Time elapsed: 296.3740372657776\n",
      "Permutation 5 done. Time elapsed: 402.43475699424744\n",
      "Permutation 6 done. Time elapsed: 453.96471905708313\n",
      "Permutation 7 done. Time elapsed: 505.16142106056213\n",
      "Permutation 8 done. Time elapsed: 553.4733700752258\n",
      "Permutation 9 done. Time elapsed: 597.1473121643066\n",
      "Permutation 10 done. Time elapsed: 638.938056230545\n",
      "Permutation 11 done. Time elapsed: 685.7259731292725\n",
      "Permutation 12 done. Time elapsed: 733.7121262550354\n",
      "Permutation 13 done. Time elapsed: 781.5967230796814\n",
      "Permutation 14 done. Time elapsed: 827.934159040451\n",
      "Permutation 15 done. Time elapsed: 873.3268949985504\n",
      "Permutation 16 done. Time elapsed: 921.3857052326202\n",
      "Permutation 17 done. Time elapsed: 968.2623810768127\n",
      "Permutation 18 done. Time elapsed: 1014.6048722267151\n",
      "Permutation 19 done. Time elapsed: 1063.805592060089\n",
      "Permutation 20 done. Time elapsed: 1109.9836280345917\n",
      "Permutation 21 done. Time elapsed: 1152.4597811698914\n",
      "Permutation 22 done. Time elapsed: 1194.4553911685944\n",
      "Permutation 23 done. Time elapsed: 1235.889643907547\n",
      "Permutation 24 done. Time elapsed: 1277.9723761081696\n",
      "Permutation 25 done. Time elapsed: 1318.2346091270447\n",
      "Permutation 26 done. Time elapsed: 1360.069764137268\n",
      "Permutation 27 done. Time elapsed: 1401.160269021988\n",
      "Permutation 28 done. Time elapsed: 1441.7200500965118\n",
      "Permutation 29 done. Time elapsed: 1486.4077129364014\n",
      "Permutation 30 done. Time elapsed: 1542.8809111118317\n",
      "Permutation 31 done. Time elapsed: 1597.632513999939\n",
      "Permutation 32 done. Time elapsed: 1645.4451160430908\n",
      "Permutation 33 done. Time elapsed: 1686.3288259506226\n",
      "Permutation 34 done. Time elapsed: 1728.444372177124\n",
      "Permutation 35 done. Time elapsed: 1773.0976350307465\n",
      "Permutation 36 done. Time elapsed: 1819.8889179229736\n",
      "Permutation 37 done. Time elapsed: 1864.6364850997925\n",
      "Permutation 38 done. Time elapsed: 1910.089740037918\n",
      "Permutation 39 done. Time elapsed: 1954.127189874649\n",
      "Permutation 40 done. Time elapsed: 1999.2710151672363\n",
      "Permutation 41 done. Time elapsed: 2047.3095321655273\n",
      "Permutation 42 done. Time elapsed: 2087.399878025055\n",
      "Permutation 43 done. Time elapsed: 2127.6849069595337\n",
      "Permutation 44 done. Time elapsed: 2167.086321115494\n",
      "Permutation 45 done. Time elapsed: 2207.01234126091\n",
      "Permutation 46 done. Time elapsed: 2247.4155039787292\n",
      "Permutation 47 done. Time elapsed: 2286.841975927353\n",
      "Permutation 48 done. Time elapsed: 2326.3771040439606\n",
      "Permutation 49 done. Time elapsed: 2368.7716269493103\n",
      "Permutation 50 done. Time elapsed: 2409.520225048065\n",
      "Permutation 51 done. Time elapsed: 2450.6481251716614\n",
      "Permutation 52 done. Time elapsed: 2490.506514072418\n",
      "Permutation 53 done. Time elapsed: 2529.7900969982147\n",
      "Permutation 54 done. Time elapsed: 2570.301408290863\n",
      "Permutation 55 done. Time elapsed: 2609.963077068329\n",
      "Permutation 56 done. Time elapsed: 2650.6348798274994\n",
      "Permutation 57 done. Time elapsed: 2691.9676582813263\n",
      "Permutation 58 done. Time elapsed: 2732.043266057968\n",
      "Permutation 59 done. Time elapsed: 2770.930915117264\n",
      "Permutation 60 done. Time elapsed: 2810.8067429065704\n",
      "Permutation 61 done. Time elapsed: 2850.8318309783936\n",
      "Permutation 62 done. Time elapsed: 2889.9019129276276\n",
      "Permutation 63 done. Time elapsed: 2930.3983788490295\n",
      "Permutation 64 done. Time elapsed: 2970.235292196274\n",
      "Permutation 65 done. Time elapsed: 3008.881019115448\n",
      "Permutation 66 done. Time elapsed: 3048.7558629512787\n",
      "Permutation 67 done. Time elapsed: 3089.7469050884247\n",
      "Permutation 68 done. Time elapsed: 3128.4639110565186\n",
      "Permutation 69 done. Time elapsed: 3168.484615087509\n",
      "Permutation 70 done. Time elapsed: 3208.848018169403\n",
      "Permutation 71 done. Time elapsed: 3248.929412126541\n",
      "Permutation 72 done. Time elapsed: 3288.8693652153015\n",
      "Permutation 73 done. Time elapsed: 3328.3924009799957\n",
      "Permutation 74 done. Time elapsed: 3367.299917936325\n",
      "Permutation 75 done. Time elapsed: 3407.1079909801483\n",
      "Permutation 76 done. Time elapsed: 3447.6264390945435\n",
      "Permutation 77 done. Time elapsed: 3486.8944449424744\n",
      "Permutation 78 done. Time elapsed: 3526.4539160728455\n",
      "Permutation 79 done. Time elapsed: 3566.981959104538\n",
      "Permutation 80 done. Time elapsed: 3606.2369582653046\n",
      "Permutation 81 done. Time elapsed: 3656.4310870170593\n",
      "Permutation 82 done. Time elapsed: 3706.159063100815\n",
      "Permutation 83 done. Time elapsed: 3753.693575143814\n",
      "Permutation 84 done. Time elapsed: 3801.2573421001434\n",
      "Permutation 85 done. Time elapsed: 3843.337950229645\n",
      "Permutation 86 done. Time elapsed: 3883.609632253647\n",
      "Permutation 87 done. Time elapsed: 3930.213558912277\n",
      "Permutation 88 done. Time elapsed: 3984.642855167389\n",
      "Permutation 89 done. Time elapsed: 4041.5678639411926\n",
      "Permutation 90 done. Time elapsed: 4107.9464201927185\n",
      "Permutation 91 done. Time elapsed: 4156.279350042343\n",
      "Permutation 92 done. Time elapsed: 4197.232084274292\n",
      "Permutation 93 done. Time elapsed: 4238.01532626152\n",
      "Permutation 94 done. Time elapsed: 4277.440083265305\n",
      "Permutation 95 done. Time elapsed: 4318.26007604599\n",
      "Permutation 96 done. Time elapsed: 4359.0683171749115\n",
      "Permutation 97 done. Time elapsed: 4399.8973751068115\n",
      "Permutation 98 done. Time elapsed: 4438.989311218262\n",
      "Permutation 99 done. Time elapsed: 4479.841930150986\n"
     ]
    },
    {
     "data": {
      "text/plain": [
       "(array([-0.19291082, -0.18435613, -0.08858675, -0.2592824 , -0.14548179,\n",
       "        -0.16084833, -0.15937179, -0.09376324, -0.13081129, -0.18728782,\n",
       "        -0.27002444, -0.0926907 , -0.15565494, -0.24712555, -0.25126664,\n",
       "        -0.12785252, -0.28542588, -0.17505428, -0.23603575, -0.07744397,\n",
       "        -0.14233184, -0.19390108, -0.20089205, -0.14454096, -0.26004442,\n",
       "        -0.23200113, -0.29222963, -0.1682266 , -0.21124141, -0.27215569,\n",
       "        -0.31501974, -0.17216693, -0.16672691, -0.13060443, -0.13030167,\n",
       "        -0.281942  , -0.23216539, -0.21689498, -0.1394213 , -0.20922906,\n",
       "        -0.21268657, -0.10081365, -0.16865802, -0.17540611, -0.09805353,\n",
       "        -0.22671614, -0.23077175, -0.18410419, -0.16831832, -0.23855465,\n",
       "        -0.18739272, -0.15396887, -0.18071895, -0.18264705, -0.23127733,\n",
       "        -0.20086822, -0.23418254, -0.25128432, -0.18191848, -0.14634521,\n",
       "        -0.09901088, -0.18126034, -0.24788012, -0.10645161, -0.11798283,\n",
       "        -0.24141033, -0.16289411, -0.21295083, -0.21005313, -0.15118871,\n",
       "        -0.18663261, -0.15034224, -0.12794282, -0.11068823, -0.12361629,\n",
       "        -0.14528494, -0.20950153, -0.13712219, -0.10812363, -0.15102756,\n",
       "        -0.19466881, -0.28325745, -0.17398175, -0.13344116, -0.20460019,\n",
       "        -0.21880557, -0.16531873, -0.1485588 , -0.14881694, -0.20798144,\n",
       "        -0.2399022 , -0.15649508, -0.1779473 , -0.1650323 , -0.21394382,\n",
       "        -0.27535266, -0.26648117, -0.21528513, -0.25602922, -0.17453856]),\n",
       " 0.0)"
      ]
     },
     "execution_count": 575,
     "metadata": {},
     "output_type": "execute_result"
    }
   ],
   "source": [
    "permutation_test(nypd, 100)"
   ]
  },
  {
   "cell_type": "code",
   "execution_count": 577,
   "metadata": {},
   "outputs": [],
   "source": [
    "simulations, p_val = (np.array([-0.19291082, -0.18435613, -0.08858675, -0.2592824 , -0.14548179,\n",
    "        -0.16084833, -0.15937179, -0.09376324, -0.13081129, -0.18728782,\n",
    "        -0.27002444, -0.0926907 , -0.15565494, -0.24712555, -0.25126664,\n",
    "        -0.12785252, -0.28542588, -0.17505428, -0.23603575, -0.07744397,\n",
    "        -0.14233184, -0.19390108, -0.20089205, -0.14454096, -0.26004442,\n",
    "        -0.23200113, -0.29222963, -0.1682266 , -0.21124141, -0.27215569,\n",
    "        -0.31501974, -0.17216693, -0.16672691, -0.13060443, -0.13030167,\n",
    "        -0.281942  , -0.23216539, -0.21689498, -0.1394213 , -0.20922906,\n",
    "        -0.21268657, -0.10081365, -0.16865802, -0.17540611, -0.09805353,\n",
    "        -0.22671614, -0.23077175, -0.18410419, -0.16831832, -0.23855465,\n",
    "        -0.18739272, -0.15396887, -0.18071895, -0.18264705, -0.23127733,\n",
    "        -0.20086822, -0.23418254, -0.25128432, -0.18191848, -0.14634521,\n",
    "        -0.09901088, -0.18126034, -0.24788012, -0.10645161, -0.11798283,\n",
    "        -0.24141033, -0.16289411, -0.21295083, -0.21005313, -0.15118871,\n",
    "        -0.18663261, -0.15034224, -0.12794282, -0.11068823, -0.12361629,\n",
    "        -0.14528494, -0.20950153, -0.13712219, -0.10812363, -0.15102756,\n",
    "        -0.19466881, -0.28325745, -0.17398175, -0.13344116, -0.20460019,\n",
    "        -0.21880557, -0.16531873, -0.1485588 , -0.14881694, -0.20798144,\n",
    "        -0.2399022 , -0.15649508, -0.1779473 , -0.1650323 , -0.21394382,\n",
    "        -0.27535266, -0.26648117, -0.21528513, -0.25602922, -0.17453856]),\n",
    " 0.0)"
   ]
  },
  {
   "cell_type": "code",
   "execution_count": 582,
   "metadata": {
    "scrolled": true
   },
   "outputs": [
    {
     "data": {
      "image/png": "[encoded data removed]",
      "text/plain": [
       "<Figure size 576x288 with 1 Axes>"
      ]
     },
     "metadata": {
      "image/png": {
       "height": 277,
       "width": 510
      },
      "needs_background": "light"
     },
     "output_type": "display_data"
    }
   ],
   "source": [
    "pd.Series(simulations).plot(kind='hist', density=True, alpha=0.8)\n",
    "plt.scatter(get_observed(nypd), 0, color='red', s=80);\n",
    "plt.title('Distribution of Test-Statistics under the Null Hypothesis vs Observed Test-Statistic')\n",
    "plt.xlabel('F1 score for Mahattan - F1 score for the rest of NYC')\n",
    "plt.show()"
   ]
  },
  {
   "cell_type": "markdown",
   "metadata": {},
   "source": [
    "---"
   ]
  },
  {
   "cell_type": "markdown",
   "metadata": {},
   "source": [
    "# Code imported from functions.py:"
   ]
  },
  {
   "cell_type": "code",
   "execution_count": null,
   "metadata": {},
   "outputs": [],
   "source": [
    "# functions.py\n",
    "\n",
    "from sklearn.base import BaseEstimator, TransformerMixin\n",
    "import numpy as np\n",
    "import pandas as pd\n",
    "\n",
    "class BetterLabelEncoder(BaseEstimator, TransformerMixin):\n",
    "\n",
    "    def __init__(self):\n",
    "        pass\n",
    "\n",
    "    def fit(self, X, y=None):\n",
    "        self.classes_ = {k : v for v, k in enumerate(np.unique(X))}\n",
    "        return self\n",
    "\n",
    "    def fit_transform(self, X, y=None):\n",
    "        self.classes_ = {k : v for v, k in enumerate(np.unique(X))}\n",
    "\n",
    "        return self.transform(X, y)\n",
    "\n",
    "    def transform(self, X, y=None):\n",
    "        try:\n",
    "            getattr(self, \"classes_\")\n",
    "        except AttributeError:\n",
    "            raise RuntimeError(\"You must fit the transformer before tranforming the data!\")\n",
    "\n",
    "        def replace_value_handle_unknown(x):\n",
    "            try:\n",
    "                return self.classes_[x]\n",
    "            except:\n",
    "                return -1\n",
    "\n",
    "        encoded = np.array(list(map(replace_value_handle_unknown, X))).reshape(-1, 1)\n",
    "\n",
    "        return pd.DataFrame(encoded)"
   ]
  }
 ],
 "metadata": {
  "kernelspec": {
   "display_name": "Python 3",
   "language": "python",
   "name": "python3"
  },
  "language_info": {
   "codemirror_mode": {
    "name": "ipython",
    "version": 3
   },
   "file_extension": ".py",
   "mimetype": "text/x-python",
   "name": "python",
   "nbconvert_exporter": "python",
   "pygments_lexer": "ipython3",
   "version": "3.8.5"
  }
 },
 "nbformat": 4,
 "nbformat_minor": 2
}
